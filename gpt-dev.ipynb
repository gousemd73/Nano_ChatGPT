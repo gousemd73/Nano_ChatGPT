{
 "cells": [
  {
   "cell_type": "code",
   "execution_count": null,
   "id": "d0c5e985",
   "metadata": {},
   "outputs": [],
   "source": [
    "#downloading the dataset from github\n",
    "!wget https://raw.githubusercontent.com/karpathy/char-rnn/master/data/tinyshakespeare/input.txt"
   ]
  },
  {
   "cell_type": "code",
   "execution_count": 1,
   "id": "28670dd3",
   "metadata": {},
   "outputs": [],
   "source": [
    "#reading the input files....\n",
    "\n",
    "with open('input.txt','r',encoding='utf-8') as f :\n",
    "    text = f.read()\n",
    "    "
   ]
  },
  {
   "cell_type": "code",
   "execution_count": 2,
   "id": "d2fdcfae",
   "metadata": {},
   "outputs": [
    {
     "name": "stdout",
     "output_type": "stream",
     "text": [
      "1115394\n"
     ]
    }
   ],
   "source": [
    "print(len(text))"
   ]
  },
  {
   "cell_type": "code",
   "execution_count": 3,
   "id": "c6672ccf",
   "metadata": {},
   "outputs": [
    {
     "name": "stdout",
     "output_type": "stream",
     "text": [
      "First Citizen:\n",
      "Before we proceed any further, hear me speak.\n",
      "\n",
      "All:\n",
      "Speak, speak.\n",
      "\n",
      "First Citizen:\n",
      "You\n"
     ]
    }
   ],
   "source": [
    "print(text[:100])"
   ]
  },
  {
   "cell_type": "code",
   "execution_count": 4,
   "id": "2278adc4",
   "metadata": {},
   "outputs": [
    {
     "name": "stdout",
     "output_type": "stream",
     "text": [
      "\n",
      " !$&',-.3:;?ABCDEFGHIJKLMNOPQRSTUVWXYZabcdefghijklmnopqrstuvwxyz\n",
      "65\n"
     ]
    }
   ],
   "source": [
    "#creating the vocabulary of the dataset with identifying the number of unique characters\n",
    "chars = sorted(list(set(text)))\n",
    "vocab_size = len(chars)\n",
    "print(''.join(chars))\n",
    "print(vocab_size)"
   ]
  },
  {
   "cell_type": "code",
   "execution_count": 5,
   "id": "ff1a23ad",
   "metadata": {},
   "outputs": [
    {
     "name": "stdout",
     "output_type": "stream",
     "text": [
      "[46, 47, 47, 1, 58, 46, 43, 56, 43]\n",
      "hii there\n"
     ]
    }
   ],
   "source": [
    "#tokenization\n",
    "\n",
    "stoi = {ch:i for i,ch in enumerate(chars)}\n",
    "itos = {i:ch for i,ch in enumerate(chars)}\n",
    "\n",
    "encode = lambda s : [stoi[c] for c in s]\n",
    "decode = lambda l : ''.join([itos[c] for c in l])\n",
    "\n",
    "print(encode(\"hii there\"))\n",
    "print(decode(encode(\"hii there\")))"
   ]
  },
  {
   "cell_type": "code",
   "execution_count": 6,
   "id": "19dc7f80",
   "metadata": {},
   "outputs": [],
   "source": [
    "#encoding the dataset into a torch.tensor with defined tokenizer above\n",
    "import torch\n",
    "\n",
    "data = torch.tensor(encode(text),dtype=torch.long)\n"
   ]
  },
  {
   "cell_type": "code",
   "execution_count": 8,
   "id": "be3ed29d",
   "metadata": {},
   "outputs": [
    {
     "name": "stdout",
     "output_type": "stream",
     "text": [
      "torch.Size([1115394])\n",
      "tensor([18, 47, 56, 57, 58,  1, 15, 47, 58, 47])\n"
     ]
    }
   ],
   "source": [
    "print(data.shape)\n",
    "\n",
    "print(data[:10])"
   ]
  },
  {
   "cell_type": "code",
   "execution_count": 9,
   "id": "e6fe2fc6",
   "metadata": {},
   "outputs": [],
   "source": [
    "#train and validation dataset\n",
    "n = int(.9*len(text))\n",
    "train_data = data[:n]\n",
    "val_data   = data[n:]"
   ]
  },
  {
   "cell_type": "code",
   "execution_count": 10,
   "id": "e9976cb5",
   "metadata": {},
   "outputs": [
    {
     "data": {
      "text/plain": [
       "tensor([18, 47, 56, 57, 58,  1, 15, 47, 58])"
      ]
     },
     "execution_count": 10,
     "metadata": {},
     "output_type": "execute_result"
    }
   ],
   "source": [
    "block_size = 8\n",
    "train_data[:block_size+1]"
   ]
  },
  {
   "cell_type": "code",
   "execution_count": 11,
   "id": "29382d09",
   "metadata": {
    "scrolled": true
   },
   "outputs": [
    {
     "name": "stdout",
     "output_type": "stream",
     "text": [
      "When input is tensor([18]) the target : 47\n",
      "When input is tensor([18, 47]) the target : 56\n",
      "When input is tensor([18, 47, 56]) the target : 57\n",
      "When input is tensor([18, 47, 56, 57]) the target : 58\n",
      "When input is tensor([18, 47, 56, 57, 58]) the target : 1\n",
      "When input is tensor([18, 47, 56, 57, 58,  1]) the target : 15\n",
      "When input is tensor([18, 47, 56, 57, 58,  1, 15]) the target : 47\n",
      "When input is tensor([18, 47, 56, 57, 58,  1, 15, 47]) the target : 58\n"
     ]
    }
   ],
   "source": [
    "x = train_data[:block_size]\n",
    "y = train_data[1:block_size+1]\n",
    "\n",
    "for t in range(block_size):\n",
    "    context = x[:t+1]\n",
    "    target  = y[t]\n",
    "    print(f\"When input is {context} the target : {target}\")"
   ]
  },
  {
   "cell_type": "code",
   "execution_count": 14,
   "id": "b820cf43",
   "metadata": {},
   "outputs": [
    {
     "data": {
      "text/plain": [
       "tensor([1078327,  453969,   41646,  671252])"
      ]
     },
     "execution_count": 14,
     "metadata": {},
     "output_type": "execute_result"
    }
   ],
   "source": [
    "torch.randint(len(data) - block_size,(batch_size,))"
   ]
  },
  {
   "cell_type": "code",
   "execution_count": 18,
   "id": "7b47394e",
   "metadata": {},
   "outputs": [
    {
     "name": "stdout",
     "output_type": "stream",
     "text": [
      "inputs\n",
      "torch.Size([4, 8])\n",
      "tensor([[24, 43, 58,  5, 57,  1, 46, 43],\n",
      "        [44, 53, 56,  1, 58, 46, 39, 58],\n",
      "        [52, 58,  1, 58, 46, 39, 58,  1],\n",
      "        [25, 17, 27, 10,  0, 21,  1, 54]])\n",
      "targets\n",
      "torch.Size([4, 8])\n",
      "tensor([[43, 58,  5, 57,  1, 46, 43, 39],\n",
      "        [53, 56,  1, 58, 46, 39, 58,  1],\n",
      "        [58,  1, 58, 46, 39, 58,  1, 46],\n",
      "        [17, 27, 10,  0, 21,  1, 54, 39]])\n",
      "When input is tensor([24]) the target : 43\n",
      "When input is tensor([24, 43]) the target : 58\n",
      "When input is tensor([24, 43, 58]) the target : 5\n",
      "When input is tensor([24, 43, 58,  5]) the target : 57\n",
      "When input is tensor([24, 43, 58,  5, 57]) the target : 1\n",
      "When input is tensor([24, 43, 58,  5, 57,  1]) the target : 46\n",
      "When input is tensor([24, 43, 58,  5, 57,  1, 46]) the target : 43\n",
      "When input is tensor([24, 43, 58,  5, 57,  1, 46, 43]) the target : 39\n",
      "When input is tensor([44]) the target : 53\n",
      "When input is tensor([44, 53]) the target : 56\n",
      "When input is tensor([44, 53, 56]) the target : 1\n",
      "When input is tensor([44, 53, 56,  1]) the target : 58\n",
      "When input is tensor([44, 53, 56,  1, 58]) the target : 46\n",
      "When input is tensor([44, 53, 56,  1, 58, 46]) the target : 39\n",
      "When input is tensor([44, 53, 56,  1, 58, 46, 39]) the target : 58\n",
      "When input is tensor([44, 53, 56,  1, 58, 46, 39, 58]) the target : 1\n",
      "When input is tensor([52]) the target : 58\n",
      "When input is tensor([52, 58]) the target : 1\n",
      "When input is tensor([52, 58,  1]) the target : 58\n",
      "When input is tensor([52, 58,  1, 58]) the target : 46\n",
      "When input is tensor([52, 58,  1, 58, 46]) the target : 39\n",
      "When input is tensor([52, 58,  1, 58, 46, 39]) the target : 58\n",
      "When input is tensor([52, 58,  1, 58, 46, 39, 58]) the target : 1\n",
      "When input is tensor([52, 58,  1, 58, 46, 39, 58,  1]) the target : 46\n",
      "When input is tensor([25]) the target : 17\n",
      "When input is tensor([25, 17]) the target : 27\n",
      "When input is tensor([25, 17, 27]) the target : 10\n",
      "When input is tensor([25, 17, 27, 10]) the target : 0\n",
      "When input is tensor([25, 17, 27, 10,  0]) the target : 21\n",
      "When input is tensor([25, 17, 27, 10,  0, 21]) the target : 1\n",
      "When input is tensor([25, 17, 27, 10,  0, 21,  1]) the target : 54\n",
      "When input is tensor([25, 17, 27, 10,  0, 21,  1, 54]) the target : 39\n"
     ]
    }
   ],
   "source": [
    "torch.manual_seed(1337)\n",
    "batch_size = 4\n",
    "block_size = 8\n",
    "\n",
    "def get_batch(split):\n",
    "    \n",
    "    data = train_data if split == 'train' else val_data\n",
    "    ix = torch.randint(len(data) - block_size,(batch_size,))\n",
    "    x  = torch.stack([data[i:i+block_size] for i in ix])\n",
    "    y  = torch.stack([data[i+1:i+block_size+1] for i  in ix])\n",
    "    return x,y\n",
    "\n",
    "xb,yb = get_batch('train')\n",
    "print('inputs')\n",
    "print(xb.shape)\n",
    "print(xb)\n",
    "\n",
    "print('targets')\n",
    "print(yb.shape)\n",
    "print(yb)\n",
    "\n",
    "for b in range(batch_size):\n",
    "    for t in range(block_size):\n",
    "        context = xb[b,:t+1]\n",
    "        target  = yb[b,t]\n",
    "        print(f\"When input is {context} the target : {target}\")"
   ]
  },
  {
   "cell_type": "code",
   "execution_count": 104,
   "id": "8db6966d",
   "metadata": {},
   "outputs": [
    {
     "name": "stdout",
     "output_type": "stream",
     "text": [
      "torch.Size([32, 65]) tensor(4.8786, grad_fn=<NllLossBackward0>)\n"
     ]
    }
   ],
   "source": [
    "#bi-gram language model....\n",
    "import torch.nn as nn\n",
    "from torch.nn import functional as F\n",
    "torch.manual_seed(1337)\n",
    "\n",
    "class BigramLM(nn.Module):\n",
    "    \n",
    "    def __init__(self,vocab_size):\n",
    "        super().__init__()\n",
    "        # each token directly reads off the logits for the next token from a lookup table\n",
    "        self.token_embedding_table = nn.Embedding(vocab_size,vocab_size)\n",
    "    def forward(self,idx,targets=None):\n",
    "        \n",
    "        #logits and targets are both (B,T) tensors of integers\n",
    "        logits = self.token_embedding_table(idx) #outputs of size (B,T,C)\n",
    "        \n",
    "        if targets is None:\n",
    "            loss = None\n",
    "        else:\n",
    "            B,T,C = logits.shape\n",
    "            logits = logits.view(B*T,C)\n",
    "            targets = targets.view(B*T)\n",
    "            loss = F.cross_entropy(logits,targets)\n",
    "        \n",
    "        return logits,loss\n",
    "    \n",
    "    def generate(self,idx,max_tokens):\n",
    "        #idx is the input in (B,T) shape in current context\n",
    "        \n",
    "        for _ in range(max_tokens):\n",
    "            #get the prediction\n",
    "            logits,loss = self(idx)\n",
    "            #focus only on the last time step\n",
    "            logits = logits[:,-1,:] #becomes (B,C)\n",
    "            #apply softmax to get the probabilities\n",
    "            probs = F.softmax(logits,dim=1)\n",
    "            #sample from the distribution\n",
    "            idx_nxt = torch.multinomial(probs,num_samples=1) #(B,1)\n",
    "            #append sampled index to the running sequence\n",
    "            idx = torch.cat((idx,idx_nxt),dim=1) #(B,T+1)\n",
    "        return idx\n",
    "\n",
    "m = BigramLM(vocab_size)\n",
    "logits,loss = m(xb,yb)\n",
    "print(logits.shape,loss)"
   ]
  },
  {
   "cell_type": "code",
   "execution_count": 113,
   "id": "718065d9",
   "metadata": {},
   "outputs": [],
   "source": [
    "predictions= m.generate(torch.zeros((1,1),dtype=torch.long),100)"
   ]
  },
  {
   "cell_type": "code",
   "execution_count": 114,
   "id": "d7cce1bd",
   "metadata": {},
   "outputs": [
    {
     "data": {
      "text/plain": [
       "\"\\nr?qP-QWktXoL&jLDJgOLVz'RIoDqHdhsV&vLLxatjscMpwLERSPyao.qfzs$Ys$zF-w,;eEkzxjgCKFChs!iWW.ObzDnxA Ms$3!\""
      ]
     },
     "execution_count": 114,
     "metadata": {},
     "output_type": "execute_result"
    }
   ],
   "source": [
    "decode(kk[0].tolist())"
   ]
  },
  {
   "cell_type": "code",
   "execution_count": 115,
   "id": "bba1180d",
   "metadata": {},
   "outputs": [],
   "source": [
    "#pytorch optimizer....\n",
    "optimizer = torch.optim.AdamW(m.parameters(),lr=1e-3)"
   ]
  },
  {
   "cell_type": "code",
   "execution_count": 119,
   "id": "21c2724c",
   "metadata": {},
   "outputs": [
    {
     "name": "stdout",
     "output_type": "stream",
     "text": [
      "2.4192638397216797\n"
     ]
    }
   ],
   "source": [
    "batch_size = 32\n",
    "\n",
    "for steps in range(10000):\n",
    "    #sample the batch of data\n",
    "    xb,yb = get_batch('train')\n",
    "    \n",
    "    #eval loss\n",
    "    logits,loss = m(xb,yb)\n",
    "    optimizer.zero_grad(set_to_none=True)\n",
    "    loss.backward()\n",
    "    optimizer.step()\n",
    "    \n",
    "print(loss.item())"
   ]
  },
  {
   "cell_type": "code",
   "execution_count": 122,
   "id": "7c66a60a",
   "metadata": {
    "scrolled": true
   },
   "outputs": [
    {
     "name": "stdout",
     "output_type": "stream",
     "text": [
      "\n",
      "Toustoigpat ICardef ld s's; I wove a aveny card m th ffegiANCord\n",
      "Sewing.\n",
      "Y:\n",
      "Nucor herend's mio d ben\n"
     ]
    }
   ],
   "source": [
    "predictions= decode(m.generate(torch.zeros((1,1),dtype=torch.long),100)[0].tolist())\n",
    "\n",
    "print(predictions)"
   ]
  },
  {
   "cell_type": "markdown",
   "id": "1e366ab1",
   "metadata": {},
   "source": [
    "## Trick in self-attention"
   ]
  },
  {
   "cell_type": "code",
   "execution_count": 123,
   "id": "2d562d96",
   "metadata": {},
   "outputs": [
    {
     "data": {
      "text/plain": [
       "torch.Size([4, 8, 2])"
      ]
     },
     "execution_count": 123,
     "metadata": {},
     "output_type": "execute_result"
    }
   ],
   "source": [
    "torch.manual_seed(1337)\n",
    "B,T,C = 4,8,2\n",
    "x = torch.randn(B,T,C)\n",
    "x.shape"
   ]
  },
  {
   "cell_type": "code",
   "execution_count": 124,
   "id": "0bf15255",
   "metadata": {},
   "outputs": [],
   "source": [
    "#We want x[b,t] = mean_{i<=t} x[b,i]\n",
    "xbow = torch.zeros((B,T,C))\n",
    "\n",
    "for b in range(B):\n",
    "    for t in range(T):\n",
    "        x_prev = x[b,:t+1]\n",
    "        xbow[b,t] = torch.mean(x_prev,0)"
   ]
  },
  {
   "cell_type": "code",
   "execution_count": 126,
   "id": "28aa01b1",
   "metadata": {},
   "outputs": [
    {
     "data": {
      "text/plain": [
       "tensor([[ 0.1808, -0.0700],\n",
       "        [-0.0894, -0.4926],\n",
       "        [ 0.1490, -0.3199],\n",
       "        [ 0.3504, -0.2238],\n",
       "        [ 0.3525,  0.0545],\n",
       "        [ 0.0688, -0.0396],\n",
       "        [ 0.0927, -0.0682],\n",
       "        [-0.0341,  0.1332]])"
      ]
     },
     "execution_count": 126,
     "metadata": {},
     "output_type": "execute_result"
    }
   ],
   "source": [
    "xbow[0]"
   ]
  },
  {
   "cell_type": "code",
   "execution_count": 127,
   "id": "52f7e79d",
   "metadata": {},
   "outputs": [
    {
     "data": {
      "text/plain": [
       "tensor([[ 0.1808, -0.0700],\n",
       "        [-0.3596, -0.9152],\n",
       "        [ 0.6258,  0.0255],\n",
       "        [ 0.9545,  0.0643],\n",
       "        [ 0.3612,  1.1679],\n",
       "        [-1.3499, -0.5102],\n",
       "        [ 0.2360, -0.2398],\n",
       "        [-0.9211,  1.5433]])"
      ]
     },
     "execution_count": 127,
     "metadata": {},
     "output_type": "execute_result"
    }
   ],
   "source": [
    "x[0]"
   ]
  },
  {
   "cell_type": "code",
   "execution_count": 132,
   "id": "64799978",
   "metadata": {},
   "outputs": [
    {
     "data": {
      "text/plain": [
       "True"
      ]
     },
     "execution_count": 132,
     "metadata": {},
     "output_type": "execute_result"
    }
   ],
   "source": [
    "wei = torch.tril(torch.ones((T,T)))\n",
    "wei = wei/wei.sum(1,keepdim=True)\n",
    "xbow2 = wei@x # (B,T,T)x (B,T,C) ----> (B,T,C)\n",
    "torch.allclose(xbow,xbow2)"
   ]
  },
  {
   "cell_type": "code",
   "execution_count": 133,
   "id": "e5a1bdcc",
   "metadata": {},
   "outputs": [
    {
     "data": {
      "text/plain": [
       "True"
      ]
     },
     "execution_count": 133,
     "metadata": {},
     "output_type": "execute_result"
    }
   ],
   "source": [
    "#using softmax\n",
    "tril = torch.tril(torch.ones((T,T)))\n",
    "wei = torch.zeros((T,T))\n",
    "wei = wei.masked_fill(tril==0,float('-inf'))\n",
    "wei = F.softmax(wei,dim=1)\n",
    "xbow3 = wei@x\n",
    "\n",
    "torch.allclose(xbow,xbow3)"
   ]
  },
  {
   "cell_type": "code",
   "execution_count": 1,
   "id": "afa25140",
   "metadata": {},
   "outputs": [
    {
     "name": "stdout",
     "output_type": "stream",
     "text": [
      "torch.Size([4, 8, 32])\n"
     ]
    },
    {
     "data": {
      "text/plain": [
       "torch.Size([4, 8, 16])"
      ]
     },
     "execution_count": 1,
     "metadata": {},
     "output_type": "execute_result"
    }
   ],
   "source": [
    "import torch\n",
    "from torch.nn import functional as F\n",
    "import torch.nn as nn\n",
    "#using softmax\n",
    "torch.manual_seed(1337)\n",
    "B,T,C = 4,8,32\n",
    "x = torch.randn(B,T,C)\n",
    "print(x.shape)\n",
    "head_size = 16 \n",
    "\n",
    "key = nn.Linear(C,head_size,bias=False) # (B,T,16)\n",
    "query = nn.Linear(C,head_size,bias=False) # (B,T,16)\n",
    "value = nn.Linear(C,head_size,bias=False)\n",
    "k = key(x)\n",
    "q = query(x)\n",
    "\n",
    "\n",
    "wei = q @ k.transpose(-2,-1) # (B,T,16) @ (B,16,T) ---> (B,T,T)\n",
    "\n",
    "tril = torch.tril(torch.ones((T,T)))\n",
    "wei = wei.masked_fill(tril==0,float('-inf'))\n",
    "wei = F.softmax(wei,dim=-1)\n",
    "\n",
    "\n",
    "v = value(x)\n",
    "out = wei@v\n",
    "out.shape"
   ]
  },
  {
   "cell_type": "code",
   "execution_count": 131,
   "id": "e4793e97",
   "metadata": {},
   "outputs": [
    {
     "name": "stdout",
     "output_type": "stream",
     "text": [
      "tensor([[1.0000, 0.0000, 0.0000],\n",
      "        [0.5000, 0.5000, 0.0000],\n",
      "        [0.3333, 0.3333, 0.3333]])\n",
      "tensor([[2., 7.],\n",
      "        [6., 4.],\n",
      "        [6., 5.]])\n",
      "tensor([[2.0000, 7.0000],\n",
      "        [4.0000, 5.5000],\n",
      "        [4.6667, 5.3333]])\n"
     ]
    }
   ],
   "source": [
    "torch.manual_seed(42)\n",
    "a = torch.tril(torch.ones((3,3)))\n",
    "a = a/torch.sum(a,1,keepdim=True)\n",
    "b = torch.randint(0,10,(3,2)).float()\n",
    "c = a@b\n",
    "\n",
    "print(a)\n",
    "\n",
    "print(b)\n",
    "print(c)"
   ]
  },
  {
   "cell_type": "code",
   "execution_count": null,
   "id": "c1de2dbe",
   "metadata": {},
   "outputs": [],
   "source": [
    "torch.manual_seed(1337)\n",
    "B,T,C = 4,8,32\n",
    "x = torch.randn(B,T,C)\n",
    "\n",
    "head_size = 16\n",
    "key = nn.Linear(C,head_size,bias=False)\n",
    "query = nn.Linear(C,head_size,bias=False)\n",
    "\n",
    "\n",
    "k = key(x)\n",
    "q = query(x)\n",
    "\n",
    "w = q @ k.transpose(-2,-1)\n",
    "\n",
    "tril = torch.tril(torch.ones((T,T)))\n",
    "\n",
    "w = w.masked_fill(tril==0,float('-inf'))\n",
    "print(w[0])\n",
    "\n",
    "w = F.softmax(w,dim=-1)"
   ]
  }
 ],
 "metadata": {
  "kernelspec": {
   "display_name": "Python 3 (ipykernel)",
   "language": "python",
   "name": "python3"
  },
  "language_info": {
   "codemirror_mode": {
    "name": "ipython",
    "version": 3
   },
   "file_extension": ".py",
   "mimetype": "text/x-python",
   "name": "python",
   "nbconvert_exporter": "python",
   "pygments_lexer": "ipython3",
   "version": "3.10.9"
  }
 },
 "nbformat": 4,
 "nbformat_minor": 5
}
